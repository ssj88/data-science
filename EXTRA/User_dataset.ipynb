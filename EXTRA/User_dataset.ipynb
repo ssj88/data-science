{
  "cells": [
    {
      "cell_type": "code",
      "execution_count": 1,
      "metadata": {
        "id": "ngbRnePhWCbw"
      },
      "outputs": [],
      "source": [
        "import pandas as pd\n",
        "from sklearn import metrics,tree\n",
        "import matplotlib.pyplot as plt\n",
        "from sklearn.model_selection import train_test_split\n",
        "from sklearn.tree import DecisionTreeClassifier\n"
      ]
    },
    {
      "cell_type": "code",
      "execution_count": null,
      "metadata": {
        "colab": {
          "base_uri": "https://localhost:8080/"
        },
        "id": "3FsrIuEiYoVK",
        "outputId": "973207a2-f28e-4722-8256-c8e396b7d222"
      },
      "outputs": [],
      "source": [
        "from google.colab import drive\n",
        "drive.mount('/content/drive')"
      ]
    },
    {
      "cell_type": "code",
      "execution_count": 12,
      "metadata": {
        "colab": {
          "base_uri": "https://localhost:8080/"
        },
        "id": "Mroag0ojY5AE",
        "outputId": "c39cf92c-98d5-41e1-e583-2be26ef0b411"
      },
      "outputs": [
        {
          "name": "stdout",
          "output_type": "stream",
          "text": [
            "         name  gives_birth  aquatic_animal  aerial_animal  has_legs class_label\n",
            "0       human            1               0              0         1      mammal\n",
            "1      python            0               0              0         0     reptile\n",
            "2      salmon            0               1              0         0        fish\n",
            "3        frog            0               2              0         1   ampbibian\n",
            "4         bat            1               0              1         1        bird\n",
            "5      pigeon            0               0              1         1        bird\n",
            "6         cat            1               0              0         1      mammal\n",
            "7       shark            1               1              0         0        fish\n",
            "8      turtle            0               2              0         1   amphibian\n",
            "9  salamander            0               2              0         1   amphibian\n"
          ]
        }
      ],
      "source": [
        "iris = pd.read_csv('/content/drive/MyDrive/LAB/data.csv')\n",
        "print(iris)"
      ]
    },
    {
      "cell_type": "code",
      "execution_count": 27,
      "metadata": {
        "colab": {
          "base_uri": "https://localhost:8080/"
        },
        "id": "jTDbNOG1bNgk",
        "outputId": "af74f8bb-3798-4208-adc8-c686dbe283ac"
      },
      "outputs": [
        {
          "name": "stdout",
          "output_type": "stream",
          "text": [
            "['fish' 'ampbibian' 'mammal']\n",
            "Accuracy:  0.6666666666666666\n"
          ]
        }
      ],
      "source": [
        "X = iris[['gives_birth','aquatic_animal','aerial_animal','has_legs']]\n",
        "Y= iris[['class_label']]\n",
        "\n",
        "x_train,x_test,y_train,y_test = train_test_split(X,Y,test_size=0.3,random_state=1)\n",
        "clf = DecisionTreeClassifier(criterion=\"entropy\")\n",
        "clf = clf.fit(x_train,y_train)\n",
        "y_pred = clf.predict(x_test)\n",
        "print(y_pred)\n",
        "print(\"Accuracy: \",metrics.accuracy_score(y_test,y_pred))\n"
      ]
    },
    {
      "cell_type": "code",
      "execution_count": 28,
      "metadata": {
        "colab": {
          "base_uri": "https://localhost:8080/"
        },
        "id": "03aZWYI9ddkU",
        "outputId": "b16118dc-042e-4e8a-f247-fad090ebdf59"
      },
      "outputs": [
        {
          "name": "stdout",
          "output_type": "stream",
          "text": [
            "['fish']\n"
          ]
        },
        {
          "name": "stderr",
          "output_type": "stream",
          "text": [
            "/usr/local/lib/python3.7/dist-packages/sklearn/base.py:451: UserWarning: X does not have valid feature names, but DecisionTreeClassifier was fitted with feature names\n",
            "  \"X does not have valid feature names, but\"\n"
          ]
        }
      ],
      "source": [
        "newcase = [[1,1,0,0]]\n",
        "y_pred = clf.predict(newcase)\n",
        "print(y_pred)"
      ]
    }
  ],
  "metadata": {
    "colab": {
      "name": "Untitled2.ipynb",
      "provenance": []
    },
    "kernelspec": {
      "display_name": "Python 3",
      "name": "python3"
    },
    "language_info": {
      "name": "python"
    }
  },
  "nbformat": 4,
  "nbformat_minor": 0
}
